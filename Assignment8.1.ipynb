{
 "cells": [
  {
   "cell_type": "code",
   "execution_count": null,
   "metadata": {
    "collapsed": true
   },
   "outputs": [],
   "source": [
    "# Problem Statement 1:\n",
    "# Blood glucose levels for obese patients have a mean of 100 with a standard deviation of 15. \n",
    "# A researcher thinks that a diet high in raw cornstarch will have a positive effect on blood glucose levels. \n",
    "# A sample of 36 patients who have tried the raw cornstarch diet have a mean glucose level of 108. \n",
    "# Test the hypothesis that the raw cornstarch had an effect or not.\n",
    "\n",
    "Solution:\n",
    "Step 1: State Null Hypothesis Ho: μ = 100\n",
    "Step 2: State Alternate Hypothesis H1: μ ≠ 100\n",
    "Step 3: State your alpha level. We’ll use 0.05 for this example. As this is a one-tailed test, 0.05 (Due to only positive effect)\n",
    "Step 4: Find the z-score associated with your alpha level. You’re looking for the area in one tail only. An area of .05 for 45% which is equal to a z-score of 1.645.\n",
    "Step 5: Find the test statistic using this formula: z score formula\n",
    "z=(108-100)/(15/√36)=8/15/6= 48/15 = 16/5 = 3.2\n",
    "Step 6: If Step 5 is greater than 1.645 (Step 3), reject the null hypothesis. In this case,In this case, it is greater (3.2>1.645), so you can reject the null hypothesis.\n",
    "So, we can conclude that a diet high in raw cornstarch will have a positive effect in blood glucose levels.\n"
   ]
  }
 ],
 "metadata": {
  "kernelspec": {
   "display_name": "Python 3",
   "language": "python",
   "name": "python3"
  },
  "language_info": {
   "codemirror_mode": {
    "name": "ipython",
    "version": 3
   },
   "file_extension": ".py",
   "mimetype": "text/x-python",
   "name": "python",
   "nbconvert_exporter": "python",
   "pygments_lexer": "ipython3",
   "version": "3.6.3"
  }
 },
 "nbformat": 4,
 "nbformat_minor": 2
}
